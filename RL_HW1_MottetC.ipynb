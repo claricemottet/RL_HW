{
 "cells": [
  {
   "cell_type": "markdown",
   "metadata": {},
   "source": [
    "# Reinforcement Learning - HW 1\n",
    "\n",
    "## by Clarice Mottet\n",
    "\n",
    "0. **[Part 0: Set Up](#part0)**\n",
    "- **Objective**: Initialize programming environment.\n",
    "- **Tasks:***\n",
    "    - Set up libraries\n",
    "    - Initialize global variables\n",
    "    - Create functions to be used throughout notebook base on problem set up\n",
    "\n",
    "1. **[Part 1: Policy Evaluation](#part1)**\n",
    "- **Objective**: Create policies and evaluate their efficacy\n",
    "- **Tasks:**\n",
    "  - Lazy policy\n",
    "  - Aggressive policy\n",
    "  - Evaluate efficacy by directly soluving the Bellman equations\n",
    "\n",
    "2. **[Part 2: Value Iteration and Policy Iteration](#part2)**\n",
    "- **Objective**: Calculate optimal policy using value iteration and policy iteration\n",
    "- **Tasks:**\n",
    "  - Value iteration: create algorithm and plot\n",
    "  - Policy iteration: create algorithm and plot\n",
    "  - Compare methods by plotting the differenc ebetween the optimal value function and value functions of the policies from problem 1."
   ]
  },
  {
   "cell_type": "markdown",
   "metadata": {},
   "source": [
    "## <a id='part0'>Part 0: Set Up</a>\n",
    "- **Objective**: Initialize programming environment.\n",
    "- **Tasks:**\n",
    "    - Set up libraries\n",
    "    - Initialize global variables\n",
    "    - Create functions to be used throughout notebook base on problem set up"
   ]
  },
  {
   "cell_type": "markdown",
   "metadata": {},
   "source": [
    "- Set up libraries"
   ]
  },
  {
   "cell_type": "code",
   "execution_count": 63,
   "metadata": {},
   "outputs": [],
   "source": [
    "import pandas as pd\n",
    "import numpy as np\n",
    "import matplotlib.pyplot as plt\n",
    "import random\n"
   ]
  },
  {
   "cell_type": "markdown",
   "metadata": {},
   "source": [
    "- Initialize global variables"
   ]
  },
  {
   "cell_type": "code",
   "execution_count": 64,
   "metadata": {},
   "outputs": [],
   "source": [
    "N_MAX = 100\n",
    "GAMMA = 0.9\n",
    "\n",
    "Q_LOW = 0.51\n",
    "Q_HIGH = 0.6\n",
    "\n",
    "COST_LOW = 0.0\n",
    "COST_HIGH = 0.01\n",
    "\n",
    "ARRIVAL_RATE = 0.5\n",
    "\n",
    "ACTION_LIST = [0, 1] #action_ind (low = 0, high = 1)"
   ]
  },
  {
   "cell_type": "markdown",
   "metadata": {},
   "source": [
    "- Create functions to be used throughout notebook base on problem set up\n",
    "    - reward functions\n",
    "    - transition functions\n",
    "    - evaluation functions\n",
    "    - simulation functions"
   ]
  },
  {
   "cell_type": "code",
   "execution_count": 65,
   "metadata": {},
   "outputs": [],
   "source": [
    "#reward functions\n",
    "\n",
    "def action_cost(action_ind):\n",
    "    if action_ind == 0:\n",
    "        return COST_LOW\n",
    "    else:\n",
    "        return COST_HIGH\n",
    "\n",
    "def reward_calc(x, action_ind):\n",
    "    return -((x/N_MAX)**2) - action_cost(action_ind)\n",
    "\n",
    "def reward_under_policy(pi):\n",
    "    r_pi = np.zeros(N_MAX)\n",
    "    for x in range(0, N_MAX):\n",
    "        action_ind = None\n",
    "        for a in ACTION_LIST:\n",
    "            #assuming actions are never equal\n",
    "            if pi[x,a] > 0.5:\n",
    "                action_ind = a\n",
    "        if action_ind == None:\n",
    "            print(f'issue with action_ind at x: {x}')\n",
    "        r_pi[x] = reward_calc(x, action_ind)\n",
    "    return r_pi"
   ]
  },
  {
   "cell_type": "code",
   "execution_count": 95,
   "metadata": {},
   "outputs": [],
   "source": [
    "#transitions functions\n",
    "\n",
    "def reduction_rate(action_ind):\n",
    "    if action_ind == 0:\n",
    "        return Q_LOW\n",
    "    else:\n",
    "        return Q_HIGH\n",
    "    \n",
    "def transition_framework():\n",
    "    #conditional matrix P(x, x_prime, a)\n",
    "    P = np.zeros((N_MAX,N_MAX,2))\n",
    "    for x in range(0,N_MAX):\n",
    "        for a in ACTION_LIST:\n",
    "            if x == 0:\n",
    "                P[x, 0, a] = (1-ARRIVAL_RATE) + (reduction_rate(a))*(ARRIVAL_RATE)\n",
    "                P[x, 1, a] = (reduction_rate(a))*(1-ARRIVAL_RATE)\n",
    "            elif x == (N_MAX-1):\n",
    "                P[x, N_MAX-2, a] = (reduction_rate(a))*(1-ARRIVAL_RATE)\n",
    "                P[x, N_MAX-1, a] = (1-reduction_rate(a)) + (reduction_rate(a))*(ARRIVAL_RATE)\n",
    "            else:\n",
    "                #(decrement, increment)\n",
    "                for x_prime in [x-1, x, x+1]:\n",
    "                    if x_prime == (x-1):\n",
    "                        #(1,0)\n",
    "                        P[x, x_prime, a] = (reduction_rate(a))*(1-ARRIVAL_RATE)\n",
    "                    if x_prime == x:\n",
    "                        #(0,0) + (1,1)\n",
    "                        P[x, x_prime, a] = (1-reduction_rate(a))*(1-ARRIVAL_RATE) + (reduction_rate(a))*(ARRIVAL_RATE)\n",
    "                    if x_prime == (x+1):\n",
    "                        #(0,1)\n",
    "                        P[x, x_prime, a] = (1-reduction_rate(a))*(ARRIVAL_RATE)\n",
    "    return P\n",
    "\n",
    "def transition_under_policy(pi):\n",
    "    P = transition_framework()\n",
    "\n",
    "    #create transition matrix based on policy P(x, x_prime)\n",
    "    P_pi = np.zeros((N_MAX,N_MAX))\n",
    "    for x in range(N_MAX):\n",
    "        for x_prime in [x-1, x, x+1]:\n",
    "            if (x_prime < N_MAX) and (x_prime >= 0):\n",
    "                for a in ACTION_LIST:\n",
    "                    P_pi[x,x_prime] += P[x,x_prime,a]*pi[x,a]\n",
    "    return P_pi\n",
    "\n",
    "# transition matrix for policy pi\n",
    "def transition(pi):\n",
    "    P = transition_framework()\n",
    "\n",
    "    X = np.size(P, 0)\n",
    "    P_pi = np.zeros((X, X))\n",
    "    for x in range(X):\n",
    "        for y in range(X):\n",
    "            P_pi[x, y] = np.sum(pi[x, :] * P[x, y, :])\n",
    "    return P_pi"
   ]
  },
  {
   "cell_type": "code",
   "execution_count": 92,
   "metadata": {},
   "outputs": [],
   "source": [
    "#evaluation functions\n",
    "\n",
    "def value_under_policy(pi):\n",
    "    P = transition_framework()\n",
    "    r = reward_under_policy(pi)\n",
    "\n",
    "    X = np.size(P,1)\n",
    "    V_pi = np.zeros((X))\n",
    "\n",
    "    # P_pi = transition_under_policy(pi)\n",
    "    P_pi = transition(pi)\n",
    "    # V_pi = np.linalg.solve((np.eye(X) - GAMMA*P_pi),r) #solves linear system V_pi = r_pi + gamma*P_pi*V_pi\n",
    "    V_pi = np.linalg.inv(np.eye(X) - GAMMA*P_pi).dot(r)\n",
    "    return V_pi\n"
   ]
  },
  {
   "cell_type": "code",
   "execution_count": 68,
   "metadata": {},
   "outputs": [],
   "source": [
    "#simulation functions\n",
    "\n",
    "def next_state(state_val, action_ind):\n",
    "    increment_t = random.choices([0, 1], weights=[1-ARRIVAL_RATE, ARRIVAL_RATE])[0]\n",
    "    decrement_t = random.choices([0, 1], weights=[1-reduction_rate(action_ind), reduction_rate(action_ind)])[0]\n",
    "    net_t = increment_t - decrement_t\n",
    "    return min(N_MAX-1, max(state_val + net_t, 0))\n",
    "\n",
    "def plot_value_under_policy(V_pi, title):\n",
    "    plt.figure(figsize=(5, 3))\n",
    "    plt.plot(V_pi, linestyle = 'dotted')\n",
    "    plt.xlabel('state')\n",
    "    plt.ylabel('policy value')\n",
    "    plt.title(title)\n",
    "    plt.show()"
   ]
  },
  {
   "cell_type": "markdown",
   "metadata": {},
   "source": [
    "## <a id='part1'>Part 1: Policy Evaluation</a>\n",
    "- **Objective**: Create policies and evaluate their efficacy\n",
    "- **Tasks:**\n",
    "  - Lazy policy\n",
    "  - Aggressive policy\n",
    "  - Evaluate efficacy by directly soluving the Bellman equations\n"
   ]
  },
  {
   "cell_type": "markdown",
   "metadata": {},
   "source": [
    "- Lazy policy: policy that always uses the low servive rate.\n",
    "\n",
    "$$ \\pi_{lazy}(x) = a_{low} $$"
   ]
  },
  {
   "cell_type": "code",
   "execution_count": 69,
   "metadata": {},
   "outputs": [],
   "source": [
    "# P[x,y,a] gives the probability of moving from state x to state y when taking action a\n",
    "# pi[x,a] = probability of picking action a in state x (either 0 or 1)\n",
    "# P_pi[x,x']=P[x,x',pi[x]]\n",
    "# policy maps (x,a) pair to probability of taking action a in (scalarized) state x"
   ]
  },
  {
   "cell_type": "code",
   "execution_count": 70,
   "metadata": {},
   "outputs": [],
   "source": [
    "#lazy policy function\n",
    "\n",
    "def policy_lazy():\n",
    "    pi = np.zeros((N_MAX,2))\n",
    "    for x in range(0,N_MAX):\n",
    "        pi[x, 0] = 1 #action_ind (low = 0, high = 1)\n",
    "        pi[x, 1] = 0\n",
    "    return pi\n"
   ]
  },
  {
   "cell_type": "code",
   "execution_count": 93,
   "metadata": {},
   "outputs": [],
   "source": [
    "#lazy policy implementation\n",
    "\n",
    "pi_lazy = policy_lazy()\n",
    "V_pi_lazy = value_under_policy(pi_lazy)\n"
   ]
  },
  {
   "cell_type": "code",
   "execution_count": 94,
   "metadata": {},
   "outputs": [
    {
     "data": {
      "image/png": "[encoded data removed]",
      "text/plain": [
       "<Figure size 500x300 with 1 Axes>"
      ]
     },
     "metadata": {},
     "output_type": "display_data"
    }
   ],
   "source": [
    "#lazy policy plot\n",
    "\n",
    "plot_value_under_policy(V_pi_lazy, \"Lazy Policy Implementation\")"
   ]
  },
  {
   "cell_type": "markdown",
   "metadata": {},
   "source": [
    "- Aggressive policy: policy that uses the low service rate for short queues and the high service rate for long queues\n",
    "\n",
    "$$ \\pi_{aggr}(x) = \\begin{cases} a_{low}\\ \\text{if}\\ x < 50 \\\\ a_{high}\\ \\text{otherwise}\\ \\end{cases} $$"
   ]
  },
  {
   "cell_type": "code",
   "execution_count": 73,
   "metadata": {},
   "outputs": [],
   "source": [
    "#aggresive policy function\n",
    "\n",
    "def policy_aggr():\n",
    "    pi = np.zeros((N_MAX,2))\n",
    "    for x in range(0,N_MAX):\n",
    "        if x < 50:\n",
    "            pi[x, 0] = 1 #action_ind (low = 0, high = 1)\n",
    "            pi[x, 1] = 0\n",
    "        else:\n",
    "            pi[x, 0] = 0 \n",
    "            pi[x, 1] = 1 #action_ind (low = 0, high = 1)\n",
    "    return pi\n"
   ]
  },
  {
   "cell_type": "code",
   "execution_count": 82,
   "metadata": {},
   "outputs": [],
   "source": [
    "#aggresive policy implementation\n",
    "\n",
    "pi_aggr = policy_aggr()\n",
    "V_pi_aggr = value_under_policy(pi_aggr)\n"
   ]
  },
  {
   "cell_type": "code",
   "execution_count": 75,
   "metadata": {},
   "outputs": [
    {
     "data": {
      "image/png": "[encoded data removed]",
      "text/plain": [
       "<Figure size 500x300 with 1 Axes>"
      ]
     },
     "metadata": {},
     "output_type": "display_data"
    }
   ],
   "source": [
    "#aggresive policy plot\n",
    "\n",
    "plot_value_under_policy(V_pi_aggr, \"Aggressive Policy Implementation\")\n"
   ]
  },
  {
   "cell_type": "markdown",
   "metadata": {},
   "source": [
    "- Evaluate efficacy by directly soluving the Bellman equations"
   ]
  },
  {
   "cell_type": "code",
   "execution_count": 76,
   "metadata": {},
   "outputs": [
    {
     "data": {
      "image/png": "[encoded data removed]",
      "text/plain": [
       "<Figure size 500x300 with 1 Axes>"
      ]
     },
     "metadata": {},
     "output_type": "display_data"
    }
   ],
   "source": [
    "V_pi_diff = np.zeros(N_MAX)\n",
    "for x in range(0, N_MAX):\n",
    "    V_pi_diff[x] = V_pi_lazy[x] - V_pi_aggr[x]\n",
    "\n",
    "plot_value_under_policy(V_pi_diff, \"(Lazy - Aggressive) Policy Difference\")"
   ]
  },
  {
   "cell_type": "markdown",
   "metadata": {},
   "source": [
    "## <a id='part2'>Part 2: Value Iteration and Policy Iteration</a>\n",
    "- **Objective**: Calculate optimal policy using value iteration and policy iteration\n",
    "- **Tasks:**\n",
    "  - Value iteration: create algorithm and plot\n",
    "  - Policy iteration: create algorithm and plot\n",
    "  - Compare methods by plotting the differenc ebetween the optimal value function and value functions of the policies from problem 1."
   ]
  }
 ],
 "metadata": {
  "kernelspec": {
   "display_name": "Python 3",
   "language": "python",
   "name": "python3"
  },
  "language_info": {
   "codemirror_mode": {
    "name": "ipython",
    "version": 3
   },
   "file_extension": ".py",
   "mimetype": "text/x-python",
   "name": "python",
   "nbconvert_exporter": "python",
   "pygments_lexer": "ipython3",
   "version": "3.10.12"
  }
 },
 "nbformat": 4,
 "nbformat_minor": 2
}
